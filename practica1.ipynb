{
  "cells": [
    {
      "cell_type": "markdown",
      "metadata": {
        "id": "ikDv2432Z0D_"
      },
      "source": [
        "# Práctica 1. Introducción a Python\n",
        "\n",
        "Objetivos de la práctica:\n",
        "- Familiarizarnos con el lenguaje Python.\n",
        "     - Familiarizarnos con el interprete de Python.\n",
        "     - Definir funciones en Python.\n",
        "     - Trabajar con los tipos básicos de Python.\n",
        "- Familiarizarnos con los notebooks de Jupyter y el entorno de Google Colab.\n",
        "\n",
        "Si estás utilizando Colab para interactuar con estos notebooks, para que los cambios realizados se almacenen en el repositorio debes usar la opción Save a copy in GitHub... del menú File."
      ]
    },
    {
      "cell_type": "markdown",
      "metadata": {
        "id": "xfnEPPAsZ0ED"
      },
      "source": [
        "## Ejercicios mínimos (6 puntos)\n",
        "\n",
        "### Ejercicio 1\n",
        "\n",
        "Crea tantas celdas como necesites y ejecuta las siguientes instrucciones:\n",
        "- (50-5*6)/4\n",
        "- ancho = 20\n",
        "- alto = 5*9\n",
        "- area = ancho*alto\n",
        "- area\n",
        "- True and 2==3"
      ]
    },
    {
      "cell_type": "code",
      "execution_count": 2,
      "metadata": {
        "id": "5yPTSR7sZ0EH",
        "outputId": "34b25773-971a-494f-d38e-67b9ee90375f",
        "colab": {
          "base_uri": "https://localhost:8080/"
        }
      },
      "outputs": [
        {
          "output_type": "execute_result",
          "data": {
            "text/plain": [
              "False"
            ]
          },
          "metadata": {},
          "execution_count": 2
        }
      ],
      "source": [
        "(50-5*6)/4"
      ]
    },
    {
      "cell_type": "code",
      "source": [
        "ancho = 20\n",
        "alto = 5*9\n",
        "area = ancho*alto\n",
        "area"
      ],
      "metadata": {
        "id": "gH6H2dKLhHnz",
        "outputId": "091003fa-0a80-4b46-aef6-7cd8b99d0469",
        "colab": {
          "base_uri": "https://localhost:8080/"
        }
      },
      "execution_count": 5,
      "outputs": [
        {
          "output_type": "execute_result",
          "data": {
            "text/plain": [
              "900"
            ]
          },
          "metadata": {},
          "execution_count": 5
        }
      ]
    },
    {
      "cell_type": "code",
      "source": [
        "True and 2==3"
      ],
      "metadata": {
        "id": "9768cIG2hMKz",
        "outputId": "8f95b2a8-f3ba-459a-86ca-aaffa745bc8a",
        "colab": {
          "base_uri": "https://localhost:8080/"
        }
      },
      "execution_count": 6,
      "outputs": [
        {
          "output_type": "execute_result",
          "data": {
            "text/plain": [
              "False"
            ]
          },
          "metadata": {},
          "execution_count": 6
        }
      ]
    },
    {
      "cell_type": "markdown",
      "metadata": {
        "id": "Fo-vlKOjZ0EV"
      },
      "source": [
        "### Ejercicio 2\n",
        "\n",
        "A continuación vemos cómo se define una función, y cómo se puede utilizar.\n",
        "\n",
        "La siguiente función toma un número y le suma 44."
      ]
    },
    {
      "cell_type": "code",
      "execution_count": 3,
      "metadata": {
        "id": "-MIzYRe5Z0EW"
      },
      "outputs": [],
      "source": [
        "def mas44(x):\n",
        "    return x + 44"
      ]
    },
    {
      "cell_type": "markdown",
      "metadata": {
        "id": "XdZO1c1QZ0Ee"
      },
      "source": [
        "Ahora podemos utilizar la función del siguiente modo."
      ]
    },
    {
      "cell_type": "code",
      "execution_count": 4,
      "metadata": {
        "id": "hQI1E5gHZ0Eg",
        "outputId": "fab713d4-281d-4972-f889-62c20907f3da",
        "colab": {
          "base_uri": "https://localhost:8080/"
        }
      },
      "outputs": [
        {
          "output_type": "execute_result",
          "data": {
            "text/plain": [
              "49"
            ]
          },
          "metadata": {},
          "execution_count": 4
        }
      ],
      "source": [
        "mas44(5)"
      ]
    },
    {
      "cell_type": "markdown",
      "metadata": {
        "id": "Aaa3ruToZ0En"
      },
      "source": [
        "### Ejercicio 3\n",
        "\n",
        "Define una función que dados dos números devuelva el menor de ellos. Utiliza la siguiente cabecera. En la celda siguiente debes reemplazar el ``pass`` por la definición de la función."
      ]
    },
    {
      "cell_type": "code",
      "execution_count": 7,
      "metadata": {
        "id": "8wbv6N3BZ0Ep"
      },
      "outputs": [],
      "source": [
        "def minimo(x,y):\n",
        "    if x<y:\n",
        "        return x\n",
        "    else:\n",
        "        return y"
      ]
    },
    {
      "cell_type": "markdown",
      "metadata": {
        "id": "ehHfpjvqZ0Ew"
      },
      "source": [
        "Si la definición anterior no es correcta, al ejecutar la siguiente celda obtendrás un error, lo que significa que tu función no pasa los tests proporcionados."
      ]
    },
    {
      "cell_type": "code",
      "execution_count": 8,
      "metadata": {
        "deletable": false,
        "editable": false,
        "id": "Y1lLNRWWZ0Ey",
        "outputId": "b6a0cb22-ebee-41ca-bd6f-5ae78513fb4b",
        "colab": {
          "base_uri": "https://localhost:8080/"
        }
      },
      "outputs": [
        {
          "output_type": "stream",
          "name": "stdout",
          "text": [
            "La función mínimo está bien definida\n"
          ]
        }
      ],
      "source": [
        "assert minimo(10,5)==5, \"El minimo entre 10 y 5 es incorrecto\"\n",
        "assert minimo(-4,9)==-4, \"El minimo entre -4 y 9 es incorrecto\"\n",
        "assert minimo(3.8,2.9)==2.9, \"El minimo entre 3.8 y 2.9 es incorrecto\"\n",
        "print(\"La función mínimo está bien definida\")"
      ]
    },
    {
      "cell_type": "markdown",
      "metadata": {
        "id": "BTAWy3iKZ0E3"
      },
      "source": [
        "### Ejercicio 4\n",
        "\n",
        "Define una función que dado un string, devuelve un string que contiene los dos primeros y los dos últimos caracteres del string; es decir, si la función recibe 'primavera', la función devolverá 'prra'. Sin embargo, si la longitud del string es menor que dos, la función devolverá el string vacio."
      ]
    },
    {
      "cell_type": "code",
      "execution_count": null,
      "metadata": {
        "id": "0gNDnvUqZ0E5"
      },
      "outputs": [],
      "source": [
        "def principio_fin(s):\n",
        "    pass"
      ]
    },
    {
      "cell_type": "markdown",
      "metadata": {
        "id": "BLaUhyVuZ0FA"
      },
      "source": [
        "Comprueba los tests."
      ]
    },
    {
      "cell_type": "code",
      "execution_count": null,
      "metadata": {
        "deletable": false,
        "editable": false,
        "id": "VbWdTheIZ0FC"
      },
      "outputs": [],
      "source": [
        "assert principio_fin('primavera')=='prra', \"La función principio_fin no está bien definida\"\n",
        "assert principio_fin('invierno')=='inno', \"La función principio_fin no está bien definida\"\n",
        "assert principio_fin('xyz')=='xyyz', \"La función principio_fin no está bien definida\"\n",
        "assert principio_fin('a')=='', \"La función principio_fin no está bien definida\"\n",
        "print(\"La función principio_fin está bien definida\")"
      ]
    },
    {
      "cell_type": "markdown",
      "metadata": {
        "id": "5GNnRPmoZ0FH"
      },
      "source": [
        "### Ejercicio 5\n",
        "\n",
        "Define una función que dado un string s, devuelve un string donde todas las ocurrencias del primer carácter de s han sido reemplazadas por '\\*', exceptuando el primer carácter. Ejemplo. 'babble' produce 'ba**le'. Ejecuta la siguiente celda para saber qué hace la función ``replace``."
      ]
    },
    {
      "cell_type": "code",
      "execution_count": null,
      "metadata": {
        "id": "fM0WDTxFZ0FJ"
      },
      "outputs": [],
      "source": [
        "s = ''\n",
        "??s.replace"
      ]
    },
    {
      "cell_type": "code",
      "execution_count": null,
      "metadata": {
        "id": "zrrYigVnZ0FP"
      },
      "outputs": [],
      "source": [
        "def comienzo_fijo(s):\n",
        "    pass"
      ]
    },
    {
      "cell_type": "markdown",
      "metadata": {
        "id": "2Vq5mVhLZ0FV"
      },
      "source": [
        "Comprueba los tests."
      ]
    },
    {
      "cell_type": "code",
      "execution_count": null,
      "metadata": {
        "deletable": false,
        "editable": false,
        "id": "TU4w5rvCZ0FW"
      },
      "outputs": [],
      "source": [
        "assert comienzo_fijo('babble')=='ba**le', \"La función comienzo_fijo no está bien definida\"\n",
        "assert comienzo_fijo('aardvark')=='a*rdv*rk', \"La función comienzo_fijo no está bien definida\"\n",
        "assert comienzo_fijo('google')=='goo*le', \"La función comienzo_fijo no está bien definida\"\n",
        "assert comienzo_fijo('donut')=='donut', \"La función comienzo_fijo no está bien definida\"\n",
        "print(\"La función comienzo_fijo está bien definida\")"
      ]
    },
    {
      "cell_type": "markdown",
      "metadata": {
        "id": "p_AoYDetZ0Fc"
      },
      "source": [
        "### Ejercicio 6\n",
        "\n",
        "Define una función que dado un string s, devuelva una tupla con dos elementos, donde el primer elemento de la  tupla es el número de letras del string y el segundo elemento es el número de números del string."
      ]
    },
    {
      "cell_type": "code",
      "execution_count": null,
      "metadata": {
        "id": "VGRuniFFZ0Fe"
      },
      "outputs": [],
      "source": [
        "def cuenta_letras_numeros(s):\n",
        "    pass"
      ]
    },
    {
      "cell_type": "markdown",
      "metadata": {
        "id": "RtnMcwHSZ0Fn"
      },
      "source": [
        "Comprueba los tests."
      ]
    },
    {
      "cell_type": "code",
      "execution_count": null,
      "metadata": {
        "deletable": false,
        "editable": false,
        "id": "CEsDg1XDZ0Fp"
      },
      "outputs": [],
      "source": [
        "assert cuenta_letras_numeros('hello world! 123')==(10, 3), \"La función cuenta_letras_numeros no está bien definida\"\n",
        "assert cuenta_letras_numeros('123abcde')==(5, 3), \"La función cuenta_letras_numeros no está bien definida\"\n",
        "print(\"La función cuenta_letras_numeros está bien definida\")"
      ]
    },
    {
      "cell_type": "markdown",
      "metadata": {
        "id": "rGYg3PseZ0Ft"
      },
      "source": [
        "### Ejercicio 7\n",
        "\n",
        "Define una función que dada una lista de strings devuelva el número de strings cuya longitud es mayor que 2 y que\n",
        "además cumplen que el primer y último carácter del string son el mismo."
      ]
    },
    {
      "cell_type": "code",
      "execution_count": null,
      "metadata": {
        "id": "T5NtQotnZ0Fu"
      },
      "outputs": [],
      "source": [
        "def cuenta_strings(palabras):\n",
        "    pass"
      ]
    },
    {
      "cell_type": "markdown",
      "metadata": {
        "id": "DiUz5ivIZ0Fz"
      },
      "source": [
        "Comprueba los tests."
      ]
    },
    {
      "cell_type": "code",
      "execution_count": null,
      "metadata": {
        "deletable": false,
        "editable": false,
        "id": "7-SWnXF4Z0F0"
      },
      "outputs": [],
      "source": [
        "assert cuenta_strings(['aba', 'bb', 'cdefc'])==2, \"La función cuenta_strings no está bien definida\"\n",
        "assert cuenta_strings(['oso', 'ojo', 'ojo','radar', 'reconocer','rotor', 'salas'])==7, \"La función cuenta_strings no está bien definida\"\n",
        "print(\"La función cuenta_strings está bien definida\")"
      ]
    },
    {
      "cell_type": "markdown",
      "metadata": {
        "id": "3L1LwZ8FZ0F5"
      },
      "source": [
        "### Ejercicio 8\n",
        "\n",
        "Define una función que dada dos listas de igual tamaño produce una lista de tuplas combinando los elementos de las dos listas. Ejemplo: dadas las listas ``[1,2,3]`` y ``['a','b','c']`` produce la lista ``[(1,'a'), (2,'b'), (3,'c')]``. En caso de que las dos listas no tengan la misma longitud, la función devolverá el string 'listas no validas'."
      ]
    },
    {
      "cell_type": "code",
      "execution_count": null,
      "metadata": {
        "id": "_XrQRFWEZ0F6"
      },
      "outputs": [],
      "source": [
        "def combina_listas(lista1,lista2):\n",
        "    pass"
      ]
    },
    {
      "cell_type": "markdown",
      "metadata": {
        "id": "JYkZ93YEZ0F-"
      },
      "source": [
        "Comprueba los tests."
      ]
    },
    {
      "cell_type": "code",
      "execution_count": null,
      "metadata": {
        "deletable": false,
        "editable": false,
        "id": "_SbExYEDZ0F_"
      },
      "outputs": [],
      "source": [
        "assert combina_listas([1, 2, 3] ,['a', 'b', 'c'])==[(1, 'a'), (2, 'b'), (3, 'c')], \"La función combina_listas no está bien definida\"\n",
        "assert combina_listas([1, 2, 3],['a', 'b'])=='listas no validas', \"La función combina_listas no está bien definida\"\n",
        "print(\"La función combina_listas está bien definida\")"
      ]
    },
    {
      "cell_type": "markdown",
      "metadata": {
        "id": "oUec0diRZ0GF"
      },
      "source": [
        "### Ejercicio 9\n",
        "\n",
        "Define una función que dada dos listas de números, las mezcla y devuelve la mezcla ordenada. Ejemplo: dadas las listas ``[4,1,3]`` y ``[2,5]`` devuelve la lista ``[1,2,3,4,5]``."
      ]
    },
    {
      "cell_type": "code",
      "execution_count": null,
      "metadata": {
        "id": "uYR7PtCFZ0GG"
      },
      "outputs": [],
      "source": [
        "def mezcla_y_ordena(lista1,lista2):\n",
        "    pass"
      ]
    },
    {
      "cell_type": "markdown",
      "metadata": {
        "id": "N-H6UKo_Z0GK"
      },
      "source": [
        "Comprueba los tests."
      ]
    },
    {
      "cell_type": "code",
      "execution_count": null,
      "metadata": {
        "deletable": false,
        "editable": false,
        "id": "yWSK3SoaZ0GL"
      },
      "outputs": [],
      "source": [
        "assert mezcla_y_ordena([1, 2, 3], [4, 5, 6])==[1, 2, 3, 4, 5, 6], \"La función mezcla_y_ordena no está bien definida\"\n",
        "assert mezcla_y_ordena([4, 1, 3], [2, 5])==[1, 2, 3, 4, 5], \"La función mezcla_y_ordena no está bien definida\"\n",
        "print(\"La función mezcla_y_ordena está bien definida\")"
      ]
    },
    {
      "cell_type": "markdown",
      "metadata": {
        "id": "EsKg9q-wZ0GP"
      },
      "source": [
        "### Ejercicio 10\n",
        "\n",
        "Define una función que dada una lista de elementos, devuelve una lista donde todos los elementos adyacentes\n",
        "que son iguales han sido reducidos a un único elemento. Ejemplo: Dada la lista ``[1,2,2,3]`` produce la lista ``[1,2,3]``."
      ]
    },
    {
      "cell_type": "code",
      "execution_count": null,
      "metadata": {
        "id": "aWHCzPqNZ0GQ"
      },
      "outputs": [],
      "source": [
        "def elimina_adyacentes(lista):\n",
        "    pass"
      ]
    },
    {
      "cell_type": "code",
      "execution_count": null,
      "metadata": {
        "deletable": false,
        "editable": false,
        "id": "rBK2DLFtZ0GT"
      },
      "outputs": [],
      "source": [
        "assert elimina_adyacentes([1, 2, 2, 3])==[1, 2, 3], \"La función elimina_adyacentes no está bien definida\"\n",
        "assert elimina_adyacentes([2, 2, 3, 3, 3])==[2, 3], \"La función elimina_adyacentes no está bien definida\"\n",
        "assert elimina_adyacentes([1, 2, 2, 3,3,3,4,2,2])==[1, 2, 3, 4, 2], \"La función elimina_adyacentes no está bien definida\"\n",
        "assert elimina_adyacentes([])==[], \"La función elimina_adyacentes no está bien definida\"\n",
        "print(\"La función elimina_adyacentes está bien definida\")"
      ]
    },
    {
      "cell_type": "markdown",
      "metadata": {
        "id": "uDllyRgnZ0GW"
      },
      "source": [
        "### Ejercicio 11\n",
        "\n",
        "Define una función que dada una tupla de elementos, devuelve una lista con los elementos de la tupla."
      ]
    },
    {
      "cell_type": "code",
      "execution_count": null,
      "metadata": {
        "id": "TS2ZZJKlZ0GY"
      },
      "outputs": [],
      "source": [
        "def tupla_a_lista(tupla):\n",
        "    pass"
      ]
    },
    {
      "cell_type": "markdown",
      "metadata": {
        "id": "H3QjIo4uZ0Gc"
      },
      "source": [
        "Comprueba los tests."
      ]
    },
    {
      "cell_type": "code",
      "execution_count": null,
      "metadata": {
        "deletable": false,
        "editable": false,
        "id": "Jx3TZZsUZ0Ge"
      },
      "outputs": [],
      "source": [
        "assert tupla_a_lista((1, 2, 2, 3))==[1, 2, 2, 3], \"La función tupla_a_lista no está bien definida\"\n",
        "assert tupla_a_lista(())==[], \"La función tupla_a_lista no está bien definida\"\n",
        "print(\"La función tupla_a_lista está bien definida\")"
      ]
    },
    {
      "cell_type": "markdown",
      "metadata": {
        "id": "pLiiYrUeZ0Gj"
      },
      "source": [
        "### Ejercicio 12\n",
        "\n",
        "Define una función que dados dos conjuntos de elementos devuelva un nuevo conjunto con los elementos del primer conjunto que no están en el segundo."
      ]
    },
    {
      "cell_type": "code",
      "execution_count": null,
      "metadata": {
        "id": "SixfiU86Z0Gl"
      },
      "outputs": [],
      "source": [
        "def diferencia_conjuntos(c1,c2):\n",
        "    pass"
      ]
    },
    {
      "cell_type": "markdown",
      "metadata": {
        "id": "u9qrTBqnZ0Gp"
      },
      "source": [
        "Comprueba los tests."
      ]
    },
    {
      "cell_type": "code",
      "execution_count": null,
      "metadata": {
        "deletable": false,
        "editable": false,
        "id": "mliSEkc3Z0Gq"
      },
      "outputs": [],
      "source": [
        "assert diferencia_conjuntos(set([\"White\", \"Red\"]), set([\"Red\", \"Green\"]))=={'White'}, \"La función diferencia_conjuntos no está bien definida\"\n",
        "print(\"La función diferencia_conjuntos está bien definida\")"
      ]
    },
    {
      "cell_type": "markdown",
      "metadata": {
        "id": "EYJR6OfZZ0Gs"
      },
      "source": [
        "## Ejercicios de ampliación I (1 punto)\n",
        "\n",
        "A continuación se proponen unos ejercicios de ampliación."
      ]
    },
    {
      "cell_type": "markdown",
      "metadata": {
        "id": "ymzCUFLXZ0Gu"
      },
      "source": [
        "### Ejercicio 13\n",
        "\n",
        "Define una función que dado un entero n positivo y mayor o igual que 0 devuelva el n-ésimo número de Fibonacci. Recuerda que el 0-ésimo número de Fibonacci es 0, el primero es 1, y para i > 1, el i-ésimo número de Fibonacci es la suma del (i-1)-ésimo mas el (i-2)-ésimo."
      ]
    },
    {
      "cell_type": "code",
      "execution_count": null,
      "metadata": {
        "id": "-bVero4TZ0Gv"
      },
      "outputs": [],
      "source": [
        "def n_esimo_Fibonacci(n):\n",
        "    pass"
      ]
    },
    {
      "cell_type": "markdown",
      "metadata": {
        "id": "sxdnFAxoZ0Gz"
      },
      "source": [
        "Comprueba los tests."
      ]
    },
    {
      "cell_type": "code",
      "execution_count": null,
      "metadata": {
        "deletable": false,
        "editable": false,
        "id": "-hQnOXQ8Z0Gz"
      },
      "outputs": [],
      "source": [
        "assert n_esimo_Fibonacci(0)==0, \"La función n_esimo_Fibonacci no está bien definida\"\n",
        "assert n_esimo_Fibonacci(1)==1, \"La función n_esimo_Fibonacci no está bien definida\"\n",
        "assert n_esimo_Fibonacci(2)==1, \"La función n_esimo_Fibonacci no está bien definida\"\n",
        "assert n_esimo_Fibonacci(10)==55, \"La función n_esimo_Fibonacci no está bien definida\"\n",
        "print(\"La función n_esimo_Fibonacci está bien definida\")"
      ]
    },
    {
      "cell_type": "markdown",
      "metadata": {
        "id": "6SG1s9gfZ0G3"
      },
      "source": [
        "### Ejercicio 14\n",
        "\n",
        "Define una función que dado un entero n positivo y mayor o igual que 0 devuelva la secuencia de los n primeros  números de Fibonacci sin incluir al 0. En caso de que la función tome como parámetro n=0 devolverá la lista vacía."
      ]
    },
    {
      "cell_type": "code",
      "execution_count": null,
      "metadata": {
        "id": "MFVBuh5xZ0G4"
      },
      "outputs": [],
      "source": [
        "def secuencia_Fibonacci(n):\n",
        "    pass"
      ]
    },
    {
      "cell_type": "markdown",
      "metadata": {
        "id": "j9Uo7m6MZ0G7"
      },
      "source": [
        "Comprueba los tests."
      ]
    },
    {
      "cell_type": "code",
      "execution_count": null,
      "metadata": {
        "deletable": false,
        "editable": false,
        "id": "hzY0uv-6Z0G8"
      },
      "outputs": [],
      "source": [
        "assert secuencia_Fibonacci(0)==[], \"La función secuencia_Fibonacci no está bien definida\"\n",
        "assert secuencia_Fibonacci(1)==[1], \"La función secuencia_Fibonacci no está bien definida\"\n",
        "assert secuencia_Fibonacci(2)==[1, 1], \"La función secuencia_Fibonacci no está bien definida\"\n",
        "assert secuencia_Fibonacci(3)==[1, 1, 2], \"La función secuencia_Fibonacci no está bien definida\"\n",
        "assert secuencia_Fibonacci(10)==[1, 1, 2, 3, 5, 8, 13, 21, 34, 55], \"La función secuencia_Fibonacci no está bien definida\"\n",
        "print(\"La función secuencia_Fibonacci está bien definida\")"
      ]
    },
    {
      "cell_type": "markdown",
      "metadata": {
        "id": "iCHnwTywZ0G_"
      },
      "source": [
        "## Ejercicio de ampliación II (2 puntos)\n",
        "\n",
        "El código genético de todos los organismos vivos se representa mediante una secuencia enorme de moléculas llamadas nucleótidos que forman el ADN. Sólo existen 4 nucleótidos y el código genético puede verse como un string con las letras A, C, G y T.\n",
        "\n",
        "El análisis de datos de ADN se basa, en parte, en buscar largas cadenas de patrones de string que involucran a las letras A, C, G, y T. Con estos ejercicios veremos algunos ejemplos de ello. Para aplicaciones reales no es  recomendable utilizar soluciones a mano y existen librerías como [BioPython](http://biopython.org/).\n",
        "\n",
        "El primer ejercicio consiste en definir una función que verifique que un string es una secuencia de ADN es decir  que solo contiene las letras A, C, G, y T. La función devolverá ``True`` en caso de que el parámetro de entrada sea una secuencia de ADN y False en caso contrario."
      ]
    },
    {
      "cell_type": "code",
      "execution_count": null,
      "metadata": {
        "id": "BHREHLCfZ0HA"
      },
      "outputs": [],
      "source": [
        "def es_secuencia_adn(secuencia):\n",
        "    pass"
      ]
    },
    {
      "cell_type": "markdown",
      "metadata": {
        "id": "EABGLq1oZ0HD"
      },
      "source": [
        "Comprueba los tests."
      ]
    },
    {
      "cell_type": "code",
      "execution_count": null,
      "metadata": {
        "deletable": false,
        "editable": false,
        "id": "gkIxwkPaZ0HE"
      },
      "outputs": [],
      "source": [
        "assert es_secuencia_adn('ATGGCATTA')==True, \"La función es_secuencia_adn no está bien definida\"\n",
        "assert es_secuencia_adn('')==True, \"La función es_secuencia_adn no está bien definida\"\n",
        "assert es_secuencia_adn('AAATTTGGGCCCCGTA')==True, \"La función es_secuencia_adn no está bien definida\"\n",
        "assert es_secuencia_adn('ATDGGCATTA')==False, \"La función es_secuencia_adn no está bien definida\"\n",
        "assert es_secuencia_adn('atgcab')==False, \"La función es_secuencia_adn no está bien definida\"\n",
        "print(\"La función es_secuencia_adn está bien definida\")"
      ]
    },
    {
      "cell_type": "markdown",
      "metadata": {
        "id": "3HELBD4GZ0HM"
      },
      "source": [
        "Dada una secuencia de ADN (un string) que contiene las letras A, C, G, y T queremos conocer cuántas veces aparece una cierta base en dicha secuencia. Por ejemplo, para la secuencia ATGGCATTA, la base A ocurre 3 veces. Define una función con esta funcionalidad."
      ]
    },
    {
      "cell_type": "code",
      "execution_count": null,
      "metadata": {
        "id": "8cYVuL-uZ0HO"
      },
      "outputs": [],
      "source": [
        "def cuenta(adn, base):\n",
        "    pass"
      ]
    },
    {
      "cell_type": "markdown",
      "metadata": {
        "id": "RmFFYfq4Z0HR"
      },
      "source": [
        "Comprueba los tests."
      ]
    },
    {
      "cell_type": "code",
      "execution_count": null,
      "metadata": {
        "deletable": false,
        "editable": false,
        "id": "7dl-DWeSZ0HT"
      },
      "outputs": [],
      "source": [
        "assert cuenta('ATGGCATTA', 'A')==3, \"La función cuenta no está bien definida\"\n",
        "assert cuenta('ATGGCATTA', 'T')==3, \"La función cuenta no está bien definida\"\n",
        "assert cuenta('ATGGCATTA', 'G')==2, \"La función cuenta no está bien definida\"\n",
        "assert cuenta('ATGGCATTA', 'C')==1, \"La función cuenta no está bien definida\"\n",
        "assert cuenta('ATGGCATTA', 'D')==0, \"La función cuenta no está bien definida\"\n",
        "assert cuenta('AAATTTGGGCCCCGTA', 'A')==4, \"La función cuenta no está bien definida\"\n",
        "assert cuenta('AAATTTGGGCCCCGTA', 'C')==4, \"La función cuenta no está bien definida\"\n",
        "assert cuenta('AAATTTGGGCCCCGTA', 'G')==4, \"La función cuenta no está bien definida\"\n",
        "\n",
        "print(\"La función cuenta está bien definida\")"
      ]
    },
    {
      "cell_type": "markdown",
      "metadata": {
        "id": "jKT10U8yZ0HW"
      },
      "source": [
        "El siguiente ejercicio consiste en calcular la frecuencia en la que aparece cada letra en cada posición de una lista de secuencias (todas las secuencias de la lista tienen el mismo número de elementos). El resultado será una tupla de listas, donde la primera lista corresponde a las frecuencias de A, la segunda a las frecuencias de C, la tercera a las de G y la cuarta a las de T. Por ejemplo, dada la lista de secuencias ``['ATGACT', 'AACTGT', 'GGCTAT']`` el resultado sería: ``([2,1,0,1,1,0],[0,0,2,0,1,0],[1,1,1,0,1,0],[0,1,0,1,0,3])``."
      ]
    },
    {
      "cell_type": "code",
      "execution_count": null,
      "metadata": {
        "id": "B2FpEAdDZ0HX"
      },
      "outputs": [],
      "source": [
        "def frecuencias(lista_adns):\n",
        "    pass"
      ]
    },
    {
      "cell_type": "markdown",
      "metadata": {
        "id": "Oi0ppbKwZ0Hb"
      },
      "source": [
        "Comprueba los tests."
      ]
    },
    {
      "cell_type": "code",
      "execution_count": null,
      "metadata": {
        "deletable": false,
        "editable": false,
        "id": "3HkM09uKZ0Hc"
      },
      "outputs": [],
      "source": [
        "assert frecuencias(['ATGACT', 'AACTGT', 'GGCTAT'])[0]==[2, 1, 0, 1, 1, 0], \"La función frecuencias no está bien definida\"\n",
        "assert frecuencias(['ATGACT', 'AACTGT', 'GGCTAT'])[1]==[0, 0, 2, 0, 1, 0], \"La función frecuencias no está bien definida\"\n",
        "assert frecuencias(['ATGACT', 'AACTGT', 'GGCTAT'])[2]==[1, 1, 1, 0, 1, 0], \"La función cuenta no está bien definida\"\n",
        "assert frecuencias(['ATGACT', 'AACTGT', 'GGCTAT'])[3]==[0, 1, 0, 2, 0, 3], \"La función frecuencias no está bien definida\"\n",
        "\n",
        "print(\"La función frecuencias está bien definida\")"
      ]
    },
    {
      "cell_type": "markdown",
      "metadata": {
        "id": "JNmvg63UZ0Hh"
      },
      "source": [
        "A continuación pasamos a definir una función que genere secuencias aleatorias de adn de un tamaño dado. Para ello\n",
        "deberás importar la librería random (``import random``) y utilizar alguna de sus funciones. Puedes ver las funciones de esta librería en: https://docs.python.org/3/library/random.html. Pista. Busca una función en esta librería que devuelva un elemento aleatorio de una secuencia."
      ]
    },
    {
      "cell_type": "code",
      "execution_count": null,
      "metadata": {
        "id": "GhIkUsrhZ0Hi"
      },
      "outputs": [],
      "source": [
        "def genera_adn(tam):\n",
        "    pass"
      ]
    },
    {
      "cell_type": "markdown",
      "metadata": {
        "id": "oN2uR-BhZ0Hl"
      },
      "source": [
        "Comprueba los tests. En este caso los tests se ejecutan mediante la instrucción ``assert``."
      ]
    },
    {
      "cell_type": "code",
      "execution_count": null,
      "metadata": {
        "deletable": false,
        "editable": false,
        "hide_input": true,
        "id": "pPybieyFZ0Hl"
      },
      "outputs": [],
      "source": [
        "adn1 = genera_adn(10)\n",
        "adn2 = genera_adn(10)\n",
        "\n",
        "import numpy as np\n",
        "\n",
        "def secuencia_contiene_letras_que_no_son_acgt(seq):\n",
        "    letras = 'BDEFHIJKMLNOPQRSUVWXYZ'\n",
        "    return np.sum([s in seq for s in letras])>0\n",
        "\n",
        "assert(len(adn1)== 10)\n",
        "assert(('A' in adn1) or ('C' in adn1) or ('G' in adn1) or ('T' in adn1))\n",
        "assert(('A' in adn2) or ('C' in adn2) or ('G' in adn2) or ('T' in adn2))\n",
        "assert(not(adn1==adn2))\n",
        "assert(not(secuencia_contiene_letras_que_no_son_acgt(adn1)))\n",
        "assert(not(secuencia_contiene_letras_que_no_son_acgt(adn2)))"
      ]
    },
    {
      "cell_type": "markdown",
      "metadata": {
        "id": "7MdQ1pCCZ0Hn"
      },
      "source": [
        "## Ejercicio de ampliación III (1 punto)\n",
        "\n",
        "Como hemos visto en clase, es posible añadir los tipos de las funciones en Python; sin embargo, en el código anterior todas las funciones están sin tipar. El tercer ejercicio de ampliación consiste en añadir todos los tipos de entrada y salida de las funciones definidas en la práctica.\n",
        "\n",
        "Para comprobar si los tipos proporcionados son los correctos debes usar la librería [mypy](http://mypy-lang.org/) y la [celda mágica](https://ipython.readthedocs.io/en/stable/interactive/magics.html) [typecheck](https://gist.github.com/knowsuchagency/f7b2203dd613756a45f816d6809f01a6). Para utilizar dicha funcionalidad debes comenzar descargando las librerías y código necesario."
      ]
    },
    {
      "cell_type": "code",
      "execution_count": null,
      "metadata": {
        "id": "w7JLTLsoZ0Hp"
      },
      "outputs": [],
      "source": [
        "!pip install mypy\n",
        "!wget https://raw.githubusercontent.com/IA1920/Utils/master/typecheck.py"
      ]
    },
    {
      "cell_type": "markdown",
      "metadata": {
        "id": "oNKxu-lRZ0Hs"
      },
      "source": [
        "Cargamos la funcionalidad necesaria."
      ]
    },
    {
      "cell_type": "code",
      "execution_count": null,
      "metadata": {
        "id": "s-q12IezZ0Hs"
      },
      "outputs": [],
      "source": [
        "from typecheck import *"
      ]
    },
    {
      "cell_type": "markdown",
      "metadata": {
        "id": "tfYBd9MiZ0Hv"
      },
      "source": [
        "Ahora puedes comprobar si los tipos proporcionados a la función son los correctos del siguiente modo (lo importante es incluir ``%%typecheck`` al principio de la celda). A continuación se muestran unos cuantos ejemplos y los errores que se pueden producir."
      ]
    },
    {
      "cell_type": "code",
      "execution_count": null,
      "metadata": {
        "id": "cUdYYRBUZ0Hw"
      },
      "outputs": [],
      "source": [
        "%%typecheck\n",
        "def mas3(x:int)->int:\n",
        "    return x+3"
      ]
    },
    {
      "cell_type": "code",
      "execution_count": null,
      "metadata": {
        "id": "fvnsIZV_Z0Hy"
      },
      "outputs": [],
      "source": [
        "%%typecheck\n",
        "def mas4(x:int)->int:\n",
        "    x+4"
      ]
    },
    {
      "cell_type": "code",
      "execution_count": null,
      "metadata": {
        "id": "aqkoiEnJZ0H2"
      },
      "outputs": [],
      "source": [
        "%%typecheck\n",
        "def mas4(x:int)->bool:\n",
        "    return x+4"
      ]
    },
    {
      "cell_type": "markdown",
      "metadata": {
        "id": "fgQfFl8VZ0H4"
      },
      "source": [
        "Añade los tipos a las funciones definidas a lo largo de la práctica y comprueba que dichos tipos son correctos."
      ]
    },
    {
      "cell_type": "markdown",
      "metadata": {
        "id": "Xa00ihS8Z0H5"
      },
      "source": [
        "## Entrega\n",
        "\n",
        "Recuerda guardar este notebook en tu repositorio."
      ]
    }
  ],
  "metadata": {
    "celltoolbar": "Edit Metadata",
    "colab": {
      "name": "practica1.ipynb",
      "provenance": []
    },
    "kernelspec": {
      "display_name": "Python 3 (ipykernel)",
      "language": "python",
      "name": "python3"
    },
    "language_info": {
      "codemirror_mode": {
        "name": "ipython",
        "version": 3
      },
      "file_extension": ".py",
      "mimetype": "text/x-python",
      "name": "python",
      "nbconvert_exporter": "python",
      "pygments_lexer": "ipython3",
      "version": "3.8.10"
    }
  },
  "nbformat": 4,
  "nbformat_minor": 0
}